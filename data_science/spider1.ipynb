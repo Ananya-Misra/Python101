{
 "cells": [
  {
   "cell_type": "code",
   "execution_count": 1,
   "metadata": {},
   "outputs": [],
   "source": [
    "from dputils import scrape as sc"
   ]
  },
  {
   "cell_type": "code",
   "execution_count": 3,
   "metadata": {},
   "outputs": [],
   "source": [
    "url='https://www.amazon.in/s?k=mobile&crid=1FQ4D8CEI5XHX&sprefix=mobile%2Caps%2C246&ref=nb_sb_noss_1'\n",
    "#it will return object of beautiful soup class conventially known as soup object\n",
    "soup=sc.get_webpage_data(url)"
   ]
  },
  {
   "cell_type": "code",
   "execution_count": 4,
   "metadata": {},
   "outputs": [
    {
     "data": {
      "text/plain": [
       "<title>Amazon.in : mobile</title>"
      ]
     },
     "execution_count": 4,
     "metadata": {},
     "output_type": "execute_result"
    }
   ],
   "source": [
    "soup.find('title')"
   ]
  },
  {
   "cell_type": "code",
   "execution_count": 5,
   "metadata": {},
   "outputs": [],
   "source": [
    "target={\n",
    "    'tag':'div',\n",
    "    'attrs':{\n",
    "        'class':'s-main-slot s-result-list s-search-results sg-row'\n",
    "    }\n",
    "}"
   ]
  },
  {
   "cell_type": "code",
   "execution_count": 22,
   "metadata": {},
   "outputs": [],
   "source": [
    "#used for repeated option\n",
    "items={\n",
    "    'tag':'div',\n",
    "    'attrs':{\n",
    "        'class':'s-result-item'\n",
    "    }\n",
    "}\n",
    "#items that we want from each item\n",
    "title={\n",
    "    'tag':'h2',\n",
    "    'attrs':{\n",
    "        'class':'a-size-mini a-spacing-none a-color-base s-line-clamp-2'\n",
    "    }\n",
    "}\n",
    "\n",
    "price={\n",
    "    'tag':'span',\n",
    "    'attrs':{\n",
    "        'class':'a-price-whole'\n",
    "    }\n",
    "}\n",
    "\n",
    "review_count={\n",
    "    'tag':'span',\n",
    "    'attrs':{\n",
    "        'class':'a-size-base s-underline-text'\n",
    "    }\n",
    "}"
   ]
  },
  {
   "cell_type": "code",
   "execution_count": 23,
   "metadata": {},
   "outputs": [
    {
     "name": "stdout",
     "output_type": "stream",
     "text": [
      "31 items found\n",
      "Item skipped at index: 0\n",
      "Item skipped at index: 1\n",
      "Item skipped at index: 8\n",
      "Item skipped at index: 18\n",
      "Item skipped at index: 27\n",
      "Item skipped at index: 28\n",
      "Item skipped at index: 29\n",
      "Item skipped at index: 30\n",
      "All items extracted\n",
      "[{'title': 'Samsung Galaxy M13 (Aqua Green, 6GB, 128GB Storage) | 6000mAh Battery | Upto 12GB RAM with RAM Plus | 2000 Instant Discount on SBI Credit Cards Valid Till 10th August', 'price': '13,999', 'reviews': '159,070'}, {'title': 'Samsung Galaxy M33 5G (Mystique Green, 6GB, 128GB Storage) | 6000mAh Battery | Upto 12GB RAM with RAM Plus | Travel Adapter to be Purchased Separately', 'price': '18,999', 'reviews': '9,386'}, {'title': 'Redmi 9A Sport (Coral Green, 2GB RAM, 32GB Storage) | 2GHz Octa-core Helio G25 Processor | 5000 mAh Battery', 'price': '6,999', 'reviews': '181,168'}, {'title': 'OPPO A31 (Mystery Black, 6GB RAM, 128GB Storage) with No Cost EMI/Additional Exchange Offers', 'price': '11,990', 'reviews': '54,480'}, {'title': 'OPPO A74 5G (Fantastic Purple,6GB RAM,128GB Storage) with No Cost EMI/Additional Exchange Offers', 'price': '14,990', 'reviews': '26,919'}, {'title': 'Redmi Note 11 Pro (Stealth Black, 6GB RAM, 128GB Storage) | 67W Turbo Charge | 120Hz Super AMOLED Display', 'price': '18,999', 'reviews': '2,030'}, {'title': 'Redmi 9 Activ (Coral Green, 4GB RAM, 64GB Storage)', 'price': '8,999', 'reviews': '171,363'}, {'title': 'OPPO A15s (Rainbow Silver, 4GB RAM, 64GB Storage) With No Cost EMI/Additional Exchange Offers', 'price': '9,990', 'reviews': '6,353'}, {'title': 'Redmi Note 11T 5G (Matte Black, 6GB RAM, 128GB ROM)| Dimensity 810 5G | 33W Pro Fast Charging | Charger Included | Additional Exchange Offers|Get 2 Months of YouTube Premium Free!', 'price': '14,999', 'reviews': '17,096'}, {'title': 'Redmi 10 Prime (Phantom Black 6GB RAM 128GB ROM |Helio G88 with extendable RAM Upto 2GB |FHD+ 90Hz Adaptive Sync Display)', 'price': '12,999', 'reviews': '47,731'}, {'title': 'Redmi 10A (Slate Grey, 4GB RAM, 64GB Storage)', 'price': '8,799', 'reviews': '615'}, {'title': 'Nokia C21 Plus Android Smartphone, Dual SIM, 3-Day Battery Life, 4GB RAM + 64GB Storage, 13MP Dual Camera with HDR | Warm Grey', 'price': '11,299', 'reviews': '13'}, {'title': 'Vivo Y33T (Mirror Black, 8GB RAM, 128GB ROM) Without Offers, (PD2142BF_Mirror Black_1)', 'price': '17,990', 'reviews': '758'}, {'title': 'Redmi 10 Prime (Phantom Black 4GB RAM 64GB | Helio G88 with extendable RAM Upto 2GB | FHD+ 90Hz Adaptive Sync Display)', 'price': '10,999', 'reviews': '47,731'}, {'title': 'OPPO A74 5G (Fluid Black, 6GB RAM, 128GB Storage) with No Cost EMI/Additional Exchange Offers', 'price': '14,990', 'reviews': '26,919'}, {'title': 'Redmi 9A Sport (Metallic Blue, 2GB RAM, 32GB Storage) | 2GHz Octa-core Helio G25 Processor | 5000 mAh Battery', 'price': '6,999', 'reviews': '181,168'}, {'title': 'Redmi 9A Sport (Carbon Black, 2GB RAM, 32GB Storage) | 2GHz Octa-core Helio G25 Processor | 5000 mAh Battery', 'price': '6,999', 'reviews': '181,168'}, {'title': 'OnePlus Nord CE 2 Lite 5G (Black Dusk, 6GB RAM, 128GB Storage)', 'price': '18,999', 'reviews': '17,366'}, {'title': 'JioPhone Next 32 GB ROM, 2 GB RAM, Blue Smartphone', 'price': '4,737', 'reviews': '1,204'}, {'title': 'Samsung Galaxy M13 (Midnight Blue, 4GB, 64GB Storage) | 6000mAh Battery | Upto 8GB RAM with RAM Plus | 2000 Instant Discount on SBI Credit Cards Valid Till 10th August', 'price': '11,999', 'reviews': '159,070'}, {'title': 'Samsung Galaxy M12 (Blue,6GB RAM, 128GB Storage) 6 Months Free Screen Replacement for Prime', 'price': '13,999', 'reviews': '159,070'}, {'title': 'Redmi Note 11 (Horizon Blue, 4GB RAM, 64GB Storage) | 90Hz FHD+ AMOLED Display | Qualcomm® Snapdragon™ 680-6nm | Alexa Built-in | 33W Charger Included | Get 2 Months of YouTube Premium Free!', 'price': '12,999', 'reviews': '31,574'}, {'title': 'Redmi Note 11T 5G (Stardust White, 6GB RAM, 128GB ROM)| Dimensity 810 5G | 33W Pro Fast Charging | Charger Included | Additional Exchange Offers|Get 2 Months of YouTube Premium Free!', 'price': '14,999', 'reviews': '17,096'}]\n"
     ]
    }
   ],
   "source": [
    "output=sc.extract_many(soup,target=target,items=items,title=title,price=price,reviews=review_count)\n",
    "print(output)"
   ]
  },
  {
   "cell_type": "code",
   "execution_count": 25,
   "metadata": {},
   "outputs": [
    {
     "name": "stdout",
     "output_type": "stream",
     "text": [
      "[{'price': '13,999',\n",
      "  'reviews': '159,070',\n",
      "  'title': 'Samsung Galaxy M13 (Aqua Green, 6GB, 128GB Storage) | 6000mAh '\n",
      "           'Battery | Upto 12GB RAM with RAM Plus | 2000 Instant Discount on '\n",
      "           'SBI Credit Cards Valid Till 10th August'},\n",
      " {'price': '18,999',\n",
      "  'reviews': '9,386',\n",
      "  'title': 'Samsung Galaxy M33 5G (Mystique Green, 6GB, 128GB Storage) | '\n",
      "           '6000mAh Battery | Upto 12GB RAM with RAM Plus | Travel Adapter to '\n",
      "           'be Purchased Separately'},\n",
      " {'price': '6,999',\n",
      "  'reviews': '181,168',\n",
      "  'title': 'Redmi 9A Sport (Coral Green, 2GB RAM, 32GB Storage) | 2GHz '\n",
      "           'Octa-core Helio G25 Processor | 5000 mAh Battery'},\n",
      " {'price': '11,990',\n",
      "  'reviews': '54,480',\n",
      "  'title': 'OPPO A31 (Mystery Black, 6GB RAM, 128GB Storage) with No Cost '\n",
      "           'EMI/Additional Exchange Offers'},\n",
      " {'price': '14,990',\n",
      "  'reviews': '26,919',\n",
      "  'title': 'OPPO A74 5G (Fantastic Purple,6GB RAM,128GB Storage) with No Cost '\n",
      "           'EMI/Additional Exchange Offers'},\n",
      " {'price': '18,999',\n",
      "  'reviews': '2,030',\n",
      "  'title': 'Redmi Note 11 Pro (Stealth Black, 6GB RAM, 128GB Storage) | 67W '\n",
      "           'Turbo Charge | 120Hz Super AMOLED Display'},\n",
      " {'price': '8,999',\n",
      "  'reviews': '171,363',\n",
      "  'title': 'Redmi 9 Activ (Coral Green, 4GB RAM, 64GB Storage)'},\n",
      " {'price': '9,990',\n",
      "  'reviews': '6,353',\n",
      "  'title': 'OPPO A15s (Rainbow Silver, 4GB RAM, 64GB Storage) With No Cost '\n",
      "           'EMI/Additional Exchange Offers'},\n",
      " {'price': '14,999',\n",
      "  'reviews': '17,096',\n",
      "  'title': 'Redmi Note 11T 5G (Matte Black, 6GB RAM, 128GB ROM)| Dimensity 810 '\n",
      "           '5G | 33W Pro Fast Charging | Charger Included | Additional '\n",
      "           'Exchange Offers|Get 2 Months of YouTube Premium Free!'},\n",
      " {'price': '12,999',\n",
      "  'reviews': '47,731',\n",
      "  'title': 'Redmi 10 Prime (Phantom Black 6GB RAM 128GB ROM |Helio G88 with '\n",
      "           'extendable RAM Upto 2GB |FHD+ 90Hz Adaptive Sync Display)'},\n",
      " {'price': '8,799',\n",
      "  'reviews': '615',\n",
      "  'title': 'Redmi 10A (Slate Grey, 4GB RAM, 64GB Storage)'},\n",
      " {'price': '11,299',\n",
      "  'reviews': '13',\n",
      "  'title': 'Nokia C21 Plus Android Smartphone, Dual SIM, 3-Day Battery Life, '\n",
      "           '4GB RAM + 64GB Storage, 13MP Dual Camera with HDR | Warm Grey'},\n",
      " {'price': '17,990',\n",
      "  'reviews': '758',\n",
      "  'title': 'Vivo Y33T (Mirror Black, 8GB RAM, 128GB ROM) Without Offers, '\n",
      "           '(PD2142BF_Mirror Black_1)'},\n",
      " {'price': '10,999',\n",
      "  'reviews': '47,731',\n",
      "  'title': 'Redmi 10 Prime (Phantom Black 4GB RAM 64GB | Helio G88 with '\n",
      "           'extendable RAM Upto 2GB | FHD+ 90Hz Adaptive Sync Display)'},\n",
      " {'price': '14,990',\n",
      "  'reviews': '26,919',\n",
      "  'title': 'OPPO A74 5G (Fluid Black, 6GB RAM, 128GB Storage) with No Cost '\n",
      "           'EMI/Additional Exchange Offers'},\n",
      " {'price': '6,999',\n",
      "  'reviews': '181,168',\n",
      "  'title': 'Redmi 9A Sport (Metallic Blue, 2GB RAM, 32GB Storage) | 2GHz '\n",
      "           'Octa-core Helio G25 Processor | 5000 mAh Battery'},\n",
      " {'price': '6,999',\n",
      "  'reviews': '181,168',\n",
      "  'title': 'Redmi 9A Sport (Carbon Black, 2GB RAM, 32GB Storage) | 2GHz '\n",
      "           'Octa-core Helio G25 Processor | 5000 mAh Battery'},\n",
      " {'price': '18,999',\n",
      "  'reviews': '17,366',\n",
      "  'title': 'OnePlus Nord CE 2 Lite 5G (Black Dusk, 6GB RAM, 128GB Storage)'},\n",
      " {'price': '4,737',\n",
      "  'reviews': '1,204',\n",
      "  'title': 'JioPhone Next 32 GB ROM, 2 GB RAM, Blue Smartphone'},\n",
      " {'price': '11,999',\n",
      "  'reviews': '159,070',\n",
      "  'title': 'Samsung Galaxy M13 (Midnight Blue, 4GB, 64GB Storage) | 6000mAh '\n",
      "           'Battery | Upto 8GB RAM with RAM Plus | 2000 Instant Discount on '\n",
      "           'SBI Credit Cards Valid Till 10th August'},\n",
      " {'price': '13,999',\n",
      "  'reviews': '159,070',\n",
      "  'title': 'Samsung Galaxy M12 (Blue,6GB RAM, 128GB Storage) 6 Months Free '\n",
      "           'Screen Replacement for Prime'},\n",
      " {'price': '12,999',\n",
      "  'reviews': '31,574',\n",
      "  'title': 'Redmi Note 11 (Horizon Blue, 4GB RAM, 64GB Storage) | 90Hz FHD+ '\n",
      "           'AMOLED Display | Qualcomm® Snapdragon™ 680-6nm | Alexa Built-in | '\n",
      "           '33W Charger Included | Get 2 Months of YouTube Premium Free!'},\n",
      " {'price': '14,999',\n",
      "  'reviews': '17,096',\n",
      "  'title': 'Redmi Note 11T 5G (Stardust White, 6GB RAM, 128GB ROM)| Dimensity '\n",
      "           '810 5G | 33W Pro Fast Charging | Charger Included | Additional '\n",
      "           'Exchange Offers|Get 2 Months of YouTube Premium Free!'}]\n"
     ]
    }
   ],
   "source": [
    "from pprint import pprint\n",
    "pprint(output)"
   ]
  },
  {
   "cell_type": "code",
   "execution_count": null,
   "metadata": {},
   "outputs": [],
   "source": []
  }
 ],
 "metadata": {
  "kernelspec": {
   "display_name": "Python 3.9.12 ('base')",
   "language": "python",
   "name": "python3"
  },
  "language_info": {
   "codemirror_mode": {
    "name": "ipython",
    "version": 3
   },
   "file_extension": ".py",
   "mimetype": "text/x-python",
   "name": "python",
   "nbconvert_exporter": "python",
   "pygments_lexer": "ipython3",
   "version": "3.9.12"
  },
  "orig_nbformat": 4,
  "vscode": {
   "interpreter": {
    "hash": "a74d1aeafcdb373f99f6fb2217bf4777a392929133e5432d8ffd28b9b08c0ec8"
   }
  }
 },
 "nbformat": 4,
 "nbformat_minor": 2
}
