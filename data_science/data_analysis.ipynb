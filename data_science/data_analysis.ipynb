{
 "cells": [
  {
   "cell_type": "code",
   "execution_count": 26,
   "metadata": {},
   "outputs": [],
   "source": [
    "import numpy as np\n",
    "import pandas as pd"
   ]
  },
  {
   "cell_type": "code",
   "execution_count": 27,
   "metadata": {},
   "outputs": [],
   "source": [
    "x=[1,2,3,5,1,2]\n",
    "nx=np.array(x)"
   ]
  },
  {
   "cell_type": "code",
   "execution_count": 28,
   "metadata": {},
   "outputs": [
    {
     "name": "stdout",
     "output_type": "stream",
     "text": [
      "[1 2 3 5 1 2]\n"
     ]
    }
   ],
   "source": [
    "print(nx)"
   ]
  },
  {
   "cell_type": "code",
   "execution_count": 29,
   "metadata": {},
   "outputs": [
    {
     "name": "stdout",
     "output_type": "stream",
     "text": [
      "(6,)\n"
     ]
    }
   ],
   "source": [
    "print(nx.shape)"
   ]
  },
  {
   "cell_type": "code",
   "execution_count": 30,
   "metadata": {},
   "outputs": [
    {
     "name": "stdout",
     "output_type": "stream",
     "text": [
      "(2, 3)\n"
     ]
    }
   ],
   "source": [
    "ny=np.array([[1,2,3],[4,5,6]])\n",
    "print(ny.shape)"
   ]
  },
  {
   "cell_type": "code",
   "execution_count": 31,
   "metadata": {},
   "outputs": [],
   "source": [
    "one=np.arange(1,100,.2)"
   ]
  },
  {
   "cell_type": "code",
   "execution_count": 32,
   "metadata": {},
   "outputs": [
    {
     "data": {
      "text/plain": [
       "(495,)"
      ]
     },
     "execution_count": 32,
     "metadata": {},
     "output_type": "execute_result"
    }
   ],
   "source": [
    "one.shape"
   ]
  },
  {
   "cell_type": "code",
   "execution_count": 33,
   "metadata": {},
   "outputs": [
    {
     "name": "stdout",
     "output_type": "stream",
     "text": [
      "495\n"
     ]
    }
   ],
   "source": [
    "print(one.size)"
   ]
  },
  {
   "cell_type": "code",
   "execution_count": 61,
   "metadata": {},
   "outputs": [
    {
     "data": {
      "text/plain": [
       "array([  1.        ,   1.49748744,   1.99497487,   2.49246231,\n",
       "         2.98994975,   3.48743719,   3.98492462,   4.48241206,\n",
       "         4.9798995 ,   5.47738693,   5.97487437,   6.47236181,\n",
       "         6.96984925,   7.46733668,   7.96482412,   8.46231156,\n",
       "         8.95979899,   9.45728643,   9.95477387,  10.45226131,\n",
       "        10.94974874,  11.44723618,  11.94472362,  12.44221106,\n",
       "        12.93969849,  13.43718593,  13.93467337,  14.4321608 ,\n",
       "        14.92964824,  15.42713568,  15.92462312,  16.42211055,\n",
       "        16.91959799,  17.41708543,  17.91457286,  18.4120603 ,\n",
       "        18.90954774,  19.40703518,  19.90452261,  20.40201005,\n",
       "        20.89949749,  21.39698492,  21.89447236,  22.3919598 ,\n",
       "        22.88944724,  23.38693467,  23.88442211,  24.38190955,\n",
       "        24.87939698,  25.37688442,  25.87437186,  26.3718593 ,\n",
       "        26.86934673,  27.36683417,  27.86432161,  28.36180905,\n",
       "        28.85929648,  29.35678392,  29.85427136,  30.35175879,\n",
       "        30.84924623,  31.34673367,  31.84422111,  32.34170854,\n",
       "        32.83919598,  33.33668342,  33.83417085,  34.33165829,\n",
       "        34.82914573,  35.32663317,  35.8241206 ,  36.32160804,\n",
       "        36.81909548,  37.31658291,  37.81407035,  38.31155779,\n",
       "        38.80904523,  39.30653266,  39.8040201 ,  40.30150754,\n",
       "        40.79899497,  41.29648241,  41.79396985,  42.29145729,\n",
       "        42.78894472,  43.28643216,  43.7839196 ,  44.28140704,\n",
       "        44.77889447,  45.27638191,  45.77386935,  46.27135678,\n",
       "        46.76884422,  47.26633166,  47.7638191 ,  48.26130653,\n",
       "        48.75879397,  49.25628141,  49.75376884,  50.25125628,\n",
       "        50.74874372,  51.24623116,  51.74371859,  52.24120603,\n",
       "        52.73869347,  53.2361809 ,  53.73366834,  54.23115578,\n",
       "        54.72864322,  55.22613065,  55.72361809,  56.22110553,\n",
       "        56.71859296,  57.2160804 ,  57.71356784,  58.21105528,\n",
       "        58.70854271,  59.20603015,  59.70351759,  60.20100503,\n",
       "        60.69849246,  61.1959799 ,  61.69346734,  62.19095477,\n",
       "        62.68844221,  63.18592965,  63.68341709,  64.18090452,\n",
       "        64.67839196,  65.1758794 ,  65.67336683,  66.17085427,\n",
       "        66.66834171,  67.16582915,  67.66331658,  68.16080402,\n",
       "        68.65829146,  69.15577889,  69.65326633,  70.15075377,\n",
       "        70.64824121,  71.14572864,  71.64321608,  72.14070352,\n",
       "        72.63819095,  73.13567839,  73.63316583,  74.13065327,\n",
       "        74.6281407 ,  75.12562814,  75.62311558,  76.12060302,\n",
       "        76.61809045,  77.11557789,  77.61306533,  78.11055276,\n",
       "        78.6080402 ,  79.10552764,  79.60301508,  80.10050251,\n",
       "        80.59798995,  81.09547739,  81.59296482,  82.09045226,\n",
       "        82.5879397 ,  83.08542714,  83.58291457,  84.08040201,\n",
       "        84.57788945,  85.07537688,  85.57286432,  86.07035176,\n",
       "        86.5678392 ,  87.06532663,  87.56281407,  88.06030151,\n",
       "        88.55778894,  89.05527638,  89.55276382,  90.05025126,\n",
       "        90.54773869,  91.04522613,  91.54271357,  92.04020101,\n",
       "        92.53768844,  93.03517588,  93.53266332,  94.03015075,\n",
       "        94.52763819,  95.02512563,  95.52261307,  96.0201005 ,\n",
       "        96.51758794,  97.01507538,  97.51256281,  98.01005025,\n",
       "        98.50753769,  99.00502513,  99.50251256, 100.        ])"
      ]
     },
     "execution_count": 61,
     "metadata": {},
     "output_type": "execute_result"
    }
   ],
   "source": [
    "two=np.linspace(1,100,200)\n",
    "two"
   ]
  },
  {
   "cell_type": "code",
   "execution_count": 35,
   "metadata": {},
   "outputs": [
    {
     "data": {
      "text/plain": [
       "array([0.44110664, 0.86242983, 0.83826499, 0.67602577, 0.60590454,\n",
       "       0.92069953, 0.80619834, 0.83706467, 0.58767778, 0.76997483,\n",
       "       0.18617671, 0.56525355, 0.78006862, 0.8441782 , 0.97486012,\n",
       "       0.32552188, 0.93372495, 0.99481678, 0.38635303, 0.15698183,\n",
       "       0.52155244, 0.52778648, 0.23918616, 0.65178566, 0.65138987,\n",
       "       0.69675923, 0.17601928, 0.69282118, 0.2154644 , 0.48284286,\n",
       "       0.41297227, 0.08159959, 0.21543637, 0.40624839, 0.23886558,\n",
       "       0.70001621, 0.43817941, 0.63467514, 0.92812319, 0.80982177,\n",
       "       0.22050379, 0.96591235, 0.2350715 , 0.42433433, 0.23636283,\n",
       "       0.22326224, 0.33788721, 0.10778402, 0.93443545, 0.96326198,\n",
       "       0.29023611, 0.81258798, 0.80896723, 0.86083971, 0.2849765 ,\n",
       "       0.59046649, 0.23794586, 0.55067428, 0.17133546, 0.99825174,\n",
       "       0.86136019, 0.89485527, 0.33242828, 0.68921543, 0.964626  ,\n",
       "       0.79283671, 0.24554263, 0.12486116, 0.01634079, 0.64621343,\n",
       "       0.1817745 , 0.52821922, 0.69210678, 0.12037056, 0.10091159,\n",
       "       0.03689757, 0.70459976, 0.57866699, 0.52324385, 0.1553384 ,\n",
       "       0.12883604, 0.89996519, 0.9339127 , 0.05078098, 0.66207251,\n",
       "       0.06146383, 0.54272126, 0.61145601, 0.42287679, 0.05631755,\n",
       "       0.66578251, 0.60117424, 0.43620264, 0.75313013, 0.74088784,\n",
       "       0.31009394, 0.94797619, 0.7530347 , 0.53256235, 0.70968588])"
      ]
     },
     "execution_count": 35,
     "metadata": {},
     "output_type": "execute_result"
    }
   ],
   "source": [
    "n3=np.random.rand(100)\n",
    "n3"
   ]
  },
  {
   "cell_type": "code",
   "execution_count": 36,
   "metadata": {},
   "outputs": [
    {
     "name": "stdout",
     "output_type": "stream",
     "text": [
      "100\n"
     ]
    }
   ],
   "source": [
    "print (n3.size)"
   ]
  },
  {
   "cell_type": "code",
   "execution_count": 37,
   "metadata": {},
   "outputs": [
    {
     "data": {
      "text/plain": [
       "array([7, 1, 9, 8, 7, 7, 5, 6, 4, 8, 2, 4, 8, 7, 4, 8, 2, 5, 5, 1, 9, 6,\n",
       "       1, 5, 5, 2, 7, 1, 1, 9, 7, 9, 4, 7, 4, 5, 5, 4, 5, 9, 2, 3, 6, 4,\n",
       "       6, 5, 6, 7, 5, 3, 6, 2, 8, 5, 5, 8, 4, 4, 9, 1, 5, 1, 2, 1, 5, 1,\n",
       "       4, 2, 6, 5, 3, 7, 2, 1, 4, 6, 6, 9, 5, 4, 9, 5, 7, 7, 4, 9, 6, 6,\n",
       "       2, 5, 1, 2, 7, 1, 6, 4, 9, 6, 5, 7])"
      ]
     },
     "execution_count": 37,
     "metadata": {},
     "output_type": "execute_result"
    }
   ],
   "source": [
    "# 100 times data with range between 1 to 10\n",
    "n4=np.random.randint(1,10,100)\n",
    "n4"
   ]
  },
  {
   "cell_type": "code",
   "execution_count": 38,
   "metadata": {},
   "outputs": [
    {
     "data": {
      "text/plain": [
       "array([[7, 1, 9, 8, 7, 7, 5, 6, 4, 8],\n",
       "       [2, 4, 8, 7, 4, 8, 2, 5, 5, 1],\n",
       "       [9, 6, 1, 5, 5, 2, 7, 1, 1, 9],\n",
       "       [7, 9, 4, 7, 4, 5, 5, 4, 5, 9],\n",
       "       [2, 3, 6, 4, 6, 5, 6, 7, 5, 3],\n",
       "       [6, 2, 8, 5, 5, 8, 4, 4, 9, 1],\n",
       "       [5, 1, 2, 1, 5, 1, 4, 2, 6, 5],\n",
       "       [3, 7, 2, 1, 4, 6, 6, 9, 5, 4],\n",
       "       [9, 5, 7, 7, 4, 9, 6, 6, 2, 5],\n",
       "       [1, 2, 7, 1, 6, 4, 9, 6, 5, 7]])"
      ]
     },
     "execution_count": 38,
     "metadata": {},
     "output_type": "execute_result"
    }
   ],
   "source": [
    "n4.reshape((10,10))"
   ]
  },
  {
   "cell_type": "code",
   "execution_count": 39,
   "metadata": {},
   "outputs": [
    {
     "data": {
      "text/plain": [
       "array([[[7, 1],\n",
       "        [9, 8],\n",
       "        [7, 7],\n",
       "        [5, 6],\n",
       "        [4, 8]],\n",
       "\n",
       "       [[2, 4],\n",
       "        [8, 7],\n",
       "        [4, 8],\n",
       "        [2, 5],\n",
       "        [5, 1]],\n",
       "\n",
       "       [[9, 6],\n",
       "        [1, 5],\n",
       "        [5, 2],\n",
       "        [7, 1],\n",
       "        [1, 9]],\n",
       "\n",
       "       [[7, 9],\n",
       "        [4, 7],\n",
       "        [4, 5],\n",
       "        [5, 4],\n",
       "        [5, 9]],\n",
       "\n",
       "       [[2, 3],\n",
       "        [6, 4],\n",
       "        [6, 5],\n",
       "        [6, 7],\n",
       "        [5, 3]],\n",
       "\n",
       "       [[6, 2],\n",
       "        [8, 5],\n",
       "        [5, 8],\n",
       "        [4, 4],\n",
       "        [9, 1]],\n",
       "\n",
       "       [[5, 1],\n",
       "        [2, 1],\n",
       "        [5, 1],\n",
       "        [4, 2],\n",
       "        [6, 5]],\n",
       "\n",
       "       [[3, 7],\n",
       "        [2, 1],\n",
       "        [4, 6],\n",
       "        [6, 9],\n",
       "        [5, 4]],\n",
       "\n",
       "       [[9, 5],\n",
       "        [7, 7],\n",
       "        [4, 9],\n",
       "        [6, 6],\n",
       "        [2, 5]],\n",
       "\n",
       "       [[1, 2],\n",
       "        [7, 1],\n",
       "        [6, 4],\n",
       "        [9, 6],\n",
       "        [5, 7]]])"
      ]
     },
     "execution_count": 39,
     "metadata": {},
     "output_type": "execute_result"
    }
   ],
   "source": [
    "n4.reshape((10,5,2))"
   ]
  },
  {
   "cell_type": "code",
   "execution_count": 40,
   "metadata": {},
   "outputs": [],
   "source": [
    "n5=n4.reshape((25,4))"
   ]
  },
  {
   "cell_type": "code",
   "execution_count": 41,
   "metadata": {},
   "outputs": [],
   "source": [
    "n1=np.random.randint(1,10,(5,5))\n",
    "n2=np.random.randint(1,10,(5,5))"
   ]
  },
  {
   "cell_type": "code",
   "execution_count": 42,
   "metadata": {},
   "outputs": [
    {
     "data": {
      "text/plain": [
       "array([[9, 9, 6, 9, 3],\n",
       "       [5, 5, 3, 5, 5],\n",
       "       [9, 9, 1, 2, 6],\n",
       "       [1, 7, 8, 3, 1],\n",
       "       [6, 3, 6, 4, 9]])"
      ]
     },
     "execution_count": 42,
     "metadata": {},
     "output_type": "execute_result"
    }
   ],
   "source": [
    "n1"
   ]
  },
  {
   "cell_type": "code",
   "execution_count": 43,
   "metadata": {},
   "outputs": [
    {
     "data": {
      "text/plain": [
       "array([[3.        , 1.8       , 0.85714286, 1.28571429, 0.375     ],\n",
       "       [0.71428571, 0.625     , 0.375     , 5.        , 2.5       ],\n",
       "       [1.8       , 1.125     , 0.14285714, 0.28571429, 0.75      ],\n",
       "       [0.16666667, 7.        , 8.        , 1.5       , 0.33333333],\n",
       "       [1.2       , 0.6       , 1.        , 0.66666667, 3.        ]])"
      ]
     },
     "execution_count": 43,
     "metadata": {},
     "output_type": "execute_result"
    }
   ],
   "source": [
    "n1/n2"
   ]
  },
  {
   "cell_type": "code",
   "execution_count": 44,
   "metadata": {},
   "outputs": [
    {
     "data": {
      "text/plain": [
       "array([[ 6,  4, -1,  2, -5],\n",
       "       [-2, -3, -5,  4,  3],\n",
       "       [ 4,  1, -6, -5, -2],\n",
       "       [-5,  6,  7,  1, -2],\n",
       "       [ 1, -2,  0, -2,  6]])"
      ]
     },
     "execution_count": 44,
     "metadata": {},
     "output_type": "execute_result"
    }
   ],
   "source": [
    "n1-n2"
   ]
  },
  {
   "cell_type": "code",
   "execution_count": 45,
   "metadata": {},
   "outputs": [
    {
     "data": {
      "text/plain": [
       "array([[12, 14, 13, 16, 11],\n",
       "       [12, 13, 11,  6,  7],\n",
       "       [14, 17,  8,  9, 14],\n",
       "       [ 7,  8,  9,  5,  4],\n",
       "       [11,  8, 12, 10, 12]])"
      ]
     },
     "execution_count": 45,
     "metadata": {},
     "output_type": "execute_result"
    }
   ],
   "source": [
    "n1+n2"
   ]
  },
  {
   "cell_type": "code",
   "execution_count": 46,
   "metadata": {},
   "outputs": [
    {
     "data": {
      "text/plain": [
       "array([[6561, 6561, 1296, 6561,   81],\n",
       "       [ 625,  625,   81,  625,  625],\n",
       "       [6561, 6561,    1,   16, 1296],\n",
       "       [   1, 2401, 4096,   81,    1],\n",
       "       [1296,   81, 1296,  256, 6561]], dtype=int32)"
      ]
     },
     "execution_count": 46,
     "metadata": {},
     "output_type": "execute_result"
    }
   ],
   "source": [
    "n1**4"
   ]
  },
  {
   "cell_type": "code",
   "execution_count": 47,
   "metadata": {},
   "outputs": [
    {
     "data": {
      "text/plain": [
       "array([[189, 189, 204, 150, 174],\n",
       "       [120, 119, 131, 101, 104],\n",
       "       [137, 157, 180, 119, 122],\n",
       "       [115, 133, 128,  82,  98],\n",
       "       [138, 151, 166, 149, 141]])"
      ]
     },
     "execution_count": 47,
     "metadata": {},
     "output_type": "execute_result"
    }
   ],
   "source": [
    "# //multiplication of matrix\n",
    "n1.dot(n2)"
   ]
  },
  {
   "cell_type": "code",
   "execution_count": 48,
   "metadata": {},
   "outputs": [
    {
     "data": {
      "text/plain": [
       "array([[3, 5, 7, 7, 8],\n",
       "       [7, 8, 8, 1, 2],\n",
       "       [5, 8, 7, 7, 8],\n",
       "       [6, 1, 1, 2, 3],\n",
       "       [5, 5, 6, 6, 3]])"
      ]
     },
     "execution_count": 48,
     "metadata": {},
     "output_type": "execute_result"
    }
   ],
   "source": [
    "n2"
   ]
  },
  {
   "cell_type": "code",
   "execution_count": 49,
   "metadata": {},
   "outputs": [
    {
     "data": {
      "text/plain": [
       "array([[27, 45, 42, 63, 24],\n",
       "       [35, 40, 24,  5, 10],\n",
       "       [45, 72,  7, 14, 48],\n",
       "       [ 6,  7,  8,  6,  3],\n",
       "       [30, 15, 36, 24, 27]])"
      ]
     },
     "execution_count": 49,
     "metadata": {},
     "output_type": "execute_result"
    }
   ],
   "source": [
    "n1*n2"
   ]
  },
  {
   "cell_type": "code",
   "execution_count": 50,
   "metadata": {},
   "outputs": [
    {
     "data": {
      "text/plain": [
       "array([[19, 19, 16, 19, 13],\n",
       "       [15, 15, 13, 15, 15],\n",
       "       [19, 19, 11, 12, 16],\n",
       "       [11, 17, 18, 13, 11],\n",
       "       [16, 13, 16, 14, 19]])"
      ]
     },
     "execution_count": 50,
     "metadata": {},
     "output_type": "execute_result"
    }
   ],
   "source": [
    "n1+10"
   ]
  },
  {
   "cell_type": "code",
   "execution_count": 51,
   "metadata": {},
   "outputs": [],
   "source": [
    "n6=np.random.randint(1,10,10)"
   ]
  },
  {
   "cell_type": "code",
   "execution_count": 52,
   "metadata": {},
   "outputs": [],
   "source": [
    "n7=np.random.randint(1,10,(3,4))"
   ]
  },
  {
   "cell_type": "code",
   "execution_count": 53,
   "metadata": {},
   "outputs": [
    {
     "data": {
      "text/plain": [
       "array([[3, 6, 1, 2],\n",
       "       [6, 7, 5, 6],\n",
       "       [5, 2, 8, 3]])"
      ]
     },
     "execution_count": 53,
     "metadata": {},
     "output_type": "execute_result"
    }
   ],
   "source": [
    "n7"
   ]
  },
  {
   "cell_type": "code",
   "execution_count": 54,
   "metadata": {},
   "outputs": [
    {
     "name": "stdout",
     "output_type": "stream",
     "text": [
      "[3 6 1 2]\n",
      "[5 2 8 3]\n",
      "[3 6 5]\n",
      "[6 7 2]\n",
      "[[6 1]\n",
      " [7 5]]\n"
     ]
    }
   ],
   "source": [
    "print(n7[0])\n",
    "print(n7[-1])\n",
    "print(n7[:,0])\n",
    "print(n7[:,1])\n",
    "# print(n7[1:3])\n",
    "print(n7[0:2,1:3])"
   ]
  },
  {
   "cell_type": "code",
   "execution_count": 55,
   "metadata": {},
   "outputs": [
    {
     "data": {
      "text/plain": [
       "array([[3, 6, 1, 2],\n",
       "       [6, 7, 5, 6],\n",
       "       [5, 2, 8, 3]])"
      ]
     },
     "execution_count": 55,
     "metadata": {},
     "output_type": "execute_result"
    }
   ],
   "source": [
    "n7"
   ]
  },
  {
   "cell_type": "code",
   "execution_count": 56,
   "metadata": {},
   "outputs": [
    {
     "data": {
      "text/plain": [
       "array([3, 6, 1, 2, 6, 7, 5, 6, 5, 2, 8, 3])"
      ]
     },
     "execution_count": 56,
     "metadata": {},
     "output_type": "execute_result"
    }
   ],
   "source": [
    "#flatten a n dimension to 1 dimension matrix\n",
    "n7.flatten()"
   ]
  },
  {
   "cell_type": "code",
   "execution_count": 57,
   "metadata": {},
   "outputs": [
    {
     "data": {
      "text/plain": [
       "array([3, 6, 1, 2, 6, 7, 5, 6, 5, 2, 8, 3])"
      ]
     },
     "execution_count": 57,
     "metadata": {},
     "output_type": "execute_result"
    }
   ],
   "source": [
    "#flatten a n dimension to 1 dimension matrix\n",
    "n7.ravel()"
   ]
  },
  {
   "cell_type": "code",
   "execution_count": 58,
   "metadata": {},
   "outputs": [
    {
     "data": {
      "text/plain": [
       "array([[3, 6, 5],\n",
       "       [6, 7, 2],\n",
       "       [1, 5, 8],\n",
       "       [2, 6, 3]])"
      ]
     },
     "execution_count": 58,
     "metadata": {},
     "output_type": "execute_result"
    }
   ],
   "source": [
    "n7.T"
   ]
  },
  {
   "cell_type": "code",
   "execution_count": 59,
   "metadata": {},
   "outputs": [
    {
     "data": {
      "text/plain": [
       "array([[3, 6, 5],\n",
       "       [6, 7, 2],\n",
       "       [1, 5, 8],\n",
       "       [2, 6, 3]])"
      ]
     },
     "execution_count": 59,
     "metadata": {},
     "output_type": "execute_result"
    }
   ],
   "source": [
    "n7.transpose()"
   ]
  },
  {
   "cell_type": "code",
   "execution_count": 62,
   "metadata": {},
   "outputs": [
    {
     "data": {
      "text/plain": [
       "8"
      ]
     },
     "execution_count": 62,
     "metadata": {},
     "output_type": "execute_result"
    }
   ],
   "source": [
    "#to find the maximum\n",
    "n7.max()\n"
   ]
  },
  {
   "cell_type": "code",
   "execution_count": 67,
   "metadata": {},
   "outputs": [
    {
     "data": {
      "text/plain": [
       "4.5"
      ]
     },
     "execution_count": 67,
     "metadata": {},
     "output_type": "execute_result"
    }
   ],
   "source": [
    "n7.mean()"
   ]
  },
  {
   "cell_type": "code",
   "execution_count": 63,
   "metadata": {},
   "outputs": [
    {
     "data": {
      "text/plain": [
       "1"
      ]
     },
     "execution_count": 63,
     "metadata": {},
     "output_type": "execute_result"
    }
   ],
   "source": [
    "#to find the minimum\n",
    "n7.min()"
   ]
  },
  {
   "cell_type": "code",
   "execution_count": 64,
   "metadata": {},
   "outputs": [
    {
     "data": {
      "text/plain": [
       "54"
      ]
     },
     "execution_count": 64,
     "metadata": {},
     "output_type": "execute_result"
    }
   ],
   "source": [
    "#sum of all the values\n",
    "n7.sum()"
   ]
  },
  {
   "cell_type": "code",
   "execution_count": 65,
   "metadata": {},
   "outputs": [
    {
     "data": {
      "text/plain": [
       "array([14, 15, 14, 11])"
      ]
     },
     "execution_count": 65,
     "metadata": {},
     "output_type": "execute_result"
    }
   ],
   "source": [
    "#sum of all values in each column\n",
    "n7.sum(axis=0)"
   ]
  },
  {
   "cell_type": "code",
   "execution_count": 66,
   "metadata": {},
   "outputs": [
    {
     "data": {
      "text/plain": [
       "array([12, 24, 18])"
      ]
     },
     "execution_count": 66,
     "metadata": {},
     "output_type": "execute_result"
    }
   ],
   "source": [
    "#sum of all values in each row\n",
    "n7.sum(axis=1)"
   ]
  },
  {
   "cell_type": "code",
   "execution_count": 70,
   "metadata": {},
   "outputs": [
    {
     "data": {
      "text/plain": [
       "(25, 4)"
      ]
     },
     "execution_count": 70,
     "metadata": {},
     "output_type": "execute_result"
    }
   ],
   "source": [
    "#tells us the number of rows and col\n",
    "n5.shape\n"
   ]
  },
  {
   "cell_type": "code",
   "execution_count": 76,
   "metadata": {},
   "outputs": [
    {
     "name": "stdout",
     "output_type": "stream",
     "text": [
      "[[3 6 1 2]\n",
      " [6 7 5 6]\n",
      " [5 2 8 3]] \n",
      " 8 found at  10\n"
     ]
    }
   ],
   "source": [
    "\n",
    "#maximum value along with its index\n",
    "print(n7,\"\\n\",n7.max(),\"found at \",n7.argmax())"
   ]
  },
  {
   "cell_type": "code",
   "execution_count": 78,
   "metadata": {},
   "outputs": [
    {
     "name": "stdout",
     "output_type": "stream",
     "text": [
      "[[3 6 1 2]\n",
      " [6 7 5 6]\n",
      " [5 2 8 3]] \n",
      " 1 found at  2\n"
     ]
    }
   ],
   "source": [
    "print(n7,\"\\n\",n7.min(),\"found at \",n7.argmin())"
   ]
  },
  {
   "cell_type": "code",
   "execution_count": 79,
   "metadata": {},
   "outputs": [
    {
     "name": "stdout",
     "output_type": "stream",
     "text": [
      "[[ 4 61]\n",
      " [11 94]\n",
      " [35 36]]\n",
      "[[26 28]\n",
      " [40 65]\n",
      " [ 7 40]]\n",
      "[[41 27 87]\n",
      " [90 35 27]]\n"
     ]
    }
   ],
   "source": [
    "a=np.random.randint(1,100,(3,2))\n",
    "b=np.random.randint(1,100,(3,2))\n",
    "c=np.random.randint(1,100,(2,3))\n",
    "print(a)\n",
    "print(b)\n",
    "print(c)\n"
   ]
  },
  {
   "cell_type": "code",
   "execution_count": 80,
   "metadata": {},
   "outputs": [
    {
     "data": {
      "text/plain": [
       "array([[ 4, 61, 26, 28],\n",
       "       [11, 94, 40, 65],\n",
       "       [35, 36,  7, 40]])"
      ]
     },
     "execution_count": 80,
     "metadata": {},
     "output_type": "execute_result"
    }
   ],
   "source": [
    "np.hstack((a,b)) #join horizontally"
   ]
  },
  {
   "cell_type": "code",
   "execution_count": 81,
   "metadata": {},
   "outputs": [
    {
     "data": {
      "text/plain": [
       "array([[ 4, 61],\n",
       "       [11, 94],\n",
       "       [35, 36],\n",
       "       [26, 28],\n",
       "       [40, 65],\n",
       "       [ 7, 40]])"
      ]
     },
     "execution_count": 81,
     "metadata": {},
     "output_type": "execute_result"
    }
   ],
   "source": [
    "np.vstack((a,b)) #join vetically"
   ]
  },
  {
   "cell_type": "code",
   "execution_count": 82,
   "metadata": {},
   "outputs": [
    {
     "data": {
      "text/plain": [
       "array([[ 4, 61],\n",
       "       [11, 94],\n",
       "       [35, 36],\n",
       "       [41, 90],\n",
       "       [27, 35],\n",
       "       [87, 27]])"
      ]
     },
     "execution_count": 82,
     "metadata": {},
     "output_type": "execute_result"
    }
   ],
   "source": [
    "np.vstack((a,c.T))"
   ]
  },
  {
   "cell_type": "code",
   "execution_count": 84,
   "metadata": {},
   "outputs": [],
   "source": [
    "m=np.array([1,2,3,4,56,78,765,43,22,346,654,2,4,6,65,78,8,89,9,5,4,34])"
   ]
  },
  {
   "cell_type": "code",
   "execution_count": 85,
   "metadata": {},
   "outputs": [
    {
     "data": {
      "text/plain": [
       "array([False, False, False, False,  True,  True,  True,  True,  True,\n",
       "        True,  True, False, False,  True,  True,  True,  True,  True,\n",
       "        True, False, False,  True])"
      ]
     },
     "execution_count": 85,
     "metadata": {},
     "output_type": "execute_result"
    }
   ],
   "source": [
    "#boolean filter\n",
    "m>5"
   ]
  },
  {
   "cell_type": "code",
   "execution_count": 86,
   "metadata": {},
   "outputs": [
    {
     "data": {
      "text/plain": [
       "array([ 56,  78, 765,  43,  22, 346, 654,   6,  65,  78,   8,  89,   9,\n",
       "        34])"
      ]
     },
     "execution_count": 86,
     "metadata": {},
     "output_type": "execute_result"
    }
   ],
   "source": [
    "m[m>5]"
   ]
  },
  {
   "cell_type": "code",
   "execution_count": 87,
   "metadata": {},
   "outputs": [
    {
     "data": {
      "text/plain": [
       "array([  1,   3,   4,  56,  78, 765,  43,  22, 346, 654,   4,   6,  65,\n",
       "        78,   8,  89,   9,   5,   4,  34])"
      ]
     },
     "execution_count": 87,
     "metadata": {},
     "output_type": "execute_result"
    }
   ],
   "source": [
    "m[m!=2]"
   ]
  },
  {
   "cell_type": "code",
   "execution_count": 88,
   "metadata": {},
   "outputs": [
    {
     "data": {
      "text/plain": [
       "array([3, 4, 4, 6, 5, 4])"
      ]
     },
     "execution_count": 88,
     "metadata": {},
     "output_type": "execute_result"
    }
   ],
   "source": [
    "m[(m>2) &(m<8)]"
   ]
  },
  {
   "cell_type": "code",
   "execution_count": 92,
   "metadata": {},
   "outputs": [],
   "source": [
    "mat=[]\n",
    "for i in range(10):\n",
    "    mat.append(int(input('enter Value')))\n",
    "mat=np.array(mat)"
   ]
  },
  {
   "cell_type": "code",
   "execution_count": 93,
   "metadata": {},
   "outputs": [
    {
     "name": "stdout",
     "output_type": "stream",
     "text": [
      "[  1 223  34   5  67 788   9   0   6  45] (10,)\n"
     ]
    }
   ],
   "source": [
    "print(mat,mat.shape)"
   ]
  },
  {
   "cell_type": "code",
   "execution_count": 94,
   "metadata": {},
   "outputs": [
    {
     "name": "stdout",
     "output_type": "stream",
     "text": [
      "[[2]\n",
      " [3]] (2, 1)\n"
     ]
    }
   ],
   "source": [
    "mat=[]\n",
    "for i in range(2):\n",
    "    smat=[]\n",
    "    smat.append(int(input('enter Value')))\n",
    "    mat.append(smat)\n",
    "mat=np.array(mat)\n",
    "print(mat,mat.shape)"
   ]
  },
  {
   "cell_type": "code",
   "execution_count": null,
   "metadata": {},
   "outputs": [],
   "source": []
  }
 ],
 "metadata": {
  "kernelspec": {
   "display_name": "Python 3.9.12 ('base')",
   "language": "python",
   "name": "python3"
  },
  "language_info": {
   "codemirror_mode": {
    "name": "ipython",
    "version": 3
   },
   "file_extension": ".py",
   "mimetype": "text/x-python",
   "name": "python",
   "nbconvert_exporter": "python",
   "pygments_lexer": "ipython3",
   "version": "3.9.12"
  },
  "orig_nbformat": 4,
  "vscode": {
   "interpreter": {
    "hash": "a74d1aeafcdb373f99f6fb2217bf4777a392929133e5432d8ffd28b9b08c0ec8"
   }
  }
 },
 "nbformat": 4,
 "nbformat_minor": 2
}
