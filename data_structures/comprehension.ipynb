{
 "cells": [
  {
   "cell_type": "code",
   "execution_count": 1,
   "metadata": {},
   "outputs": [
    {
     "name": "stdout",
     "output_type": "stream",
     "text": [
      "[23, 44, 32, 23]\n",
      "[529, 1936, 1024, 529]\n"
     ]
    }
   ],
   "source": [
    "x=[23,44,32,23]\n",
    "x2=[] #line1\n",
    "for i in x: #line2\n",
    "    sqr=i **2 #line3\n",
    "    x2.append(sqr)\n",
    "print(x)\n",
    "print(x2)"
   ]
  },
  {
   "cell_type": "markdown",
   "metadata": {},
   "source": [
    "# Comprehension\n",
    "* used when you want to create a list from existing list\n",
    "* works on set , dict, and list\n",
    ">> Syntax\n",
    ">> newlist=[operation loop condition]"
   ]
  },
  {
   "cell_type": "code",
   "execution_count": 4,
   "metadata": {},
   "outputs": [
    {
     "name": "stdout",
     "output_type": "stream",
     "text": [
      "[529, 1936, 1024, 529]\n"
     ]
    }
   ],
   "source": [
    "x3=[i**2 for i in x]\n",
    "print(x3)"
   ]
  },
  {
   "cell_type": "code",
   "execution_count": 6,
   "metadata": {},
   "outputs": [
    {
     "name": "stdout",
     "output_type": "stream",
     "text": [
      "[2, 4, 8, 16, 10]\n"
     ]
    }
   ],
   "source": [
    "a=[2,4,5,8,16,10]\n",
    "even_a=[i for i in a if i%2==0]\n",
    "print(even_a)"
   ]
  },
  {
   "cell_type": "code",
   "execution_count": 17,
   "metadata": {},
   "outputs": [
    {
     "name": "stdout",
     "output_type": "stream",
     "text": [
      "Kim   Joo   Kim Book Joo\n",
      "Peeky   Blinders   Kim Book Joo\n",
      "Will   Byers   Kim Book Joo\n",
      "Haunting   Hill   Kim Book Joo\n",
      "['KJ', 'PB', 'WB', 'HH']\n"
     ]
    }
   ],
   "source": [
    "names=['Kim Book Joo','Peeky Blinders','Will Byers','Haunting Hill']\n",
    "for k in names:\n",
    "    a=k.split()\n",
    "initial_names=[\n",
    "    f'{n.split()[0][0]}{n.split()[-1][0]}' for n in names\n",
    "]\n",
    "print(initial_names)"
   ]
  },
  {
   "cell_type": "code",
   "execution_count": 18,
   "metadata": {},
   "outputs": [],
   "source": [
    "rainfall={\n",
    "    '2001':350,\n",
    "    '2002':420,\n",
    "    '2003':510,\n",
    "    '2004':600,\n",
    "    '2005':700\n",
    "\n",
    "}"
   ]
  },
  {
   "cell_type": "code",
   "execution_count": 20,
   "metadata": {},
   "outputs": [
    {
     "name": "stdout",
     "output_type": "stream",
     "text": [
      "{('2003', 510), ('2001', 350), ('2004', 600), ('2002', 420), ('2005', 700)}\n"
     ]
    }
   ],
   "source": [
    "rainfall_norm={i for i in rainfall.items()}\n",
    "print(rainfall_norm)"
   ]
  },
  {
   "cell_type": "markdown",
   "metadata": {},
   "source": [
    "## Normalize\n",
    "* divide the vaues with the highest value present in the dataset"
   ]
  },
  {
   "cell_type": "code",
   "execution_count": 19,
   "metadata": {},
   "outputs": [
    {
     "name": "stdout",
     "output_type": "stream",
     "text": [
      "{'2001': 0.5, '2002': 0.6, '2003': 0.7285714285714285, '2004': 0.8571428571428571, '2005': 1.0}\n"
     ]
    }
   ],
   "source": [
    "rainfall_norm={i[0]:i[1]/700 for i in rainfall.items()}\n",
    "print(rainfall_norm)"
   ]
  },
  {
   "cell_type": "markdown",
   "metadata": {},
   "source": [
    "_Wap to create a list and then generate list of even and odd umber using comprehension_"
   ]
  },
  {
   "cell_type": "code",
   "execution_count": 25,
   "metadata": {},
   "outputs": [
    {
     "name": "stdout",
     "output_type": "stream",
     "text": [
      "[2, 4]\n",
      "[1, 3, 5]\n"
     ]
    }
   ],
   "source": [
    "x=list()\n",
    "for i in range (5):\n",
    "    c=int(input('enter a value'))\n",
    "    x.append(c)\n",
    "even=[x1 for x1 in x if x1%2==0]\n",
    "odd=[x1 for x1 in x if x1%2!=0]\n",
    "print(even)\n",
    "print(odd)"
   ]
  },
  {
   "cell_type": "code",
   "execution_count": 4,
   "metadata": {},
   "outputs": [],
   "source": [
    "contact='ALEX sdsf'\n",
    "contact[-1]\n",
    "name=contact.split()\n"
   ]
  },
  {
   "cell_type": "code",
   "execution_count": 7,
   "metadata": {},
   "outputs": [
    {
     "data": {
      "text/plain": [
       "['ALEX', 'sdsf']"
      ]
     },
     "execution_count": 7,
     "metadata": {},
     "output_type": "execute_result"
    }
   ],
   "source": [
    "name"
   ]
  },
  {
   "cell_type": "code",
   "execution_count": 2,
   "metadata": {},
   "outputs": [
    {
     "name": "stdout",
     "output_type": "stream",
     "text": [
      "hell\n"
     ]
    }
   ],
   "source": [
    "print('hell')"
   ]
  },
  {
   "cell_type": "code",
   "execution_count": null,
   "metadata": {},
   "outputs": [],
   "source": []
  }
 ],
 "metadata": {
  "kernelspec": {
   "display_name": "Python 3.9.12 ('base')",
   "language": "python",
   "name": "python3"
  },
  "language_info": {
   "codemirror_mode": {
    "name": "ipython",
    "version": 3
   },
   "file_extension": ".py",
   "mimetype": "text/x-python",
   "name": "python",
   "nbconvert_exporter": "python",
   "pygments_lexer": "ipython3",
   "version": "3.9.12"
  },
  "orig_nbformat": 4,
  "vscode": {
   "interpreter": {
    "hash": "a74d1aeafcdb373f99f6fb2217bf4777a392929133e5432d8ffd28b9b08c0ec8"
   }
  }
 },
 "nbformat": 4,
 "nbformat_minor": 2
}
